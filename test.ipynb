{
 "cells": [
  {
   "cell_type": "code",
   "execution_count": null,
   "metadata": {
    "vscode": {
     "languageId": "plaintext"
    }
   },
   "outputs": [],
   "source": [
    "# Plot 2: Validation Loss and Recall\n",
    "fig, ax3 = plt.subplots(figsize=(10, 6))\n",
    "\n",
    "# Plot the validation average loss on the primary y-axis\n",
    "sns.lineplot(data=df, x='Steps', y='Validation Avg Loss', marker='x', label='Validation Avg Loss', ax=ax3)\n",
    "\n",
    "# Set up the secondary axis for Recall\n",
    "ax4 = ax3.twinx()\n",
    "sns.lineplot(data=df, x='Steps', y='Recall', marker='s', label='Recall', ax=ax4, color='green')\n",
    "\n",
    "# Set labels and title\n",
    "ax3.set_xlabel('Steps')\n",
    "ax3.set_ylabel('Validation Loss')\n",
    "ax4.set_ylabel('Recall')\n",
    "ax3.legend(loc='upper left')\n",
    "ax4.legend(loc='upper right')\n",
    "\n",
    "# Customize the secondary y-axis for Recall\n",
    "ax4.set_ylim(0.1, 0.4)\n",
    "\n",
    "# Customizing the plot\n",
    "sns.despine(ax=ax3, right=False)  # Keep the right spine for the secondary axis\n",
    "ax3.grid(False)  # Disable the grid\n",
    "\n",
    "# Display the plot\n",
    "plt.show()\n"
   ]
  }
 ],
 "metadata": {
  "kernelspec": {
   "display_name": "test_env",
   "language": "python",
   "name": "python3"
  },
  "language_info": {
   "codemirror_mode": {
    "name": "ipython",
    "version": 3
   },
   "file_extension": ".py",
   "mimetype": "text/x-python",
   "name": "python",
   "nbconvert_exporter": "python",
   "pygments_lexer": "ipython3",
   "version": "3.10.13"
  }
 },
 "nbformat": 4,
 "nbformat_minor": 2
}
