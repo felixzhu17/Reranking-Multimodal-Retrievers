{
 "cells": [
  {
   "cell_type": "code",
   "execution_count": 1,
   "metadata": {},
   "outputs": [
    {
     "ename": "NameError",
     "evalue": "name 'plt' is not defined",
     "output_type": "error",
     "traceback": [
      "\u001b[0;31m---------------------------------------------------------------------------\u001b[0m",
      "\u001b[0;31mNameError\u001b[0m                                 Traceback (most recent call last)",
      "Cell \u001b[0;32mIn[1], line 2\u001b[0m\n\u001b[1;32m      1\u001b[0m \u001b[38;5;66;03m# Plot 2: Validation Loss and Recall\u001b[39;00m\n\u001b[0;32m----> 2\u001b[0m fig, ax3 \u001b[38;5;241m=\u001b[39m \u001b[43mplt\u001b[49m\u001b[38;5;241m.\u001b[39msubplots(figsize\u001b[38;5;241m=\u001b[39m(\u001b[38;5;241m10\u001b[39m, \u001b[38;5;241m6\u001b[39m))\n\u001b[1;32m      4\u001b[0m \u001b[38;5;66;03m# Plot the validation average loss on the primary y-axis\u001b[39;00m\n\u001b[1;32m      5\u001b[0m sns\u001b[38;5;241m.\u001b[39mlineplot(data\u001b[38;5;241m=\u001b[39mdf, x\u001b[38;5;241m=\u001b[39m\u001b[38;5;124m'\u001b[39m\u001b[38;5;124mSteps\u001b[39m\u001b[38;5;124m'\u001b[39m, y\u001b[38;5;241m=\u001b[39m\u001b[38;5;124m'\u001b[39m\u001b[38;5;124mValidation Avg Loss\u001b[39m\u001b[38;5;124m'\u001b[39m, marker\u001b[38;5;241m=\u001b[39m\u001b[38;5;124m'\u001b[39m\u001b[38;5;124mx\u001b[39m\u001b[38;5;124m'\u001b[39m, label\u001b[38;5;241m=\u001b[39m\u001b[38;5;124m'\u001b[39m\u001b[38;5;124mValidation Avg Loss\u001b[39m\u001b[38;5;124m'\u001b[39m, ax\u001b[38;5;241m=\u001b[39max3)\n",
      "\u001b[0;31mNameError\u001b[0m: name 'plt' is not defined"
     ]
    }
   ],
   "source": [
    "# Plot 2: Validation Loss and Recall\n",
    "fig, ax3 = plt.subplots(figsize=(10, 6))\n",
    "\n",
    "# Plot the validation average loss on the primary y-axis\n",
    "sns.lineplot(data=df, x='Steps', y='Validation Avg Loss', marker='x', label='Validation Avg Loss', ax=ax3)\n",
    "\n",
    "# Set up the secondary axis for Recall\n",
    "ax4 = ax3.twinx()\n",
    "sns.lineplot(data=df, x='Steps', y='Recall', marker='s', label='Recall', ax=ax4, color='green')\n",
    "\n",
    "# Set labels and title\n",
    "ax3.set_xlabel('Steps')\n",
    "ax3.set_ylabel('Validation Loss')\n",
    "ax4.set_ylabel('Recall')\n",
    "ax3.legend(loc='upper left')\n",
    "ax4.legend(loc='upper right')\n",
    "\n",
    "# Customize the secondary y-axis for Recall\n",
    "ax4.set_ylim(0.1, 0.4)\n",
    "\n",
    "# Customizing the plot\n",
    "sns.despine(ax=ax3, right=False)  # Keep the right spine for the secondary axis\n",
    "ax3.grid(False)  # Disable the grid\n",
    "\n",
    "# Display the plot\n",
    "plt.show()\n"
   ]
  },
  {
   "cell_type": "code",
   "execution_count": null,
   "metadata": {},
   "outputs": [],
   "source": []
  }
 ],
 "metadata": {
  "kernelspec": {
   "display_name": "test_env",
   "language": "python",
   "name": "python3"
  },
  "language_info": {
   "codemirror_mode": {
    "name": "ipython",
    "version": 3
   },
   "file_extension": ".py",
   "mimetype": "text/x-python",
   "name": "python",
   "nbconvert_exporter": "python",
   "pygments_lexer": "ipython3",
   "version": "3.8.13"
  }
 },
 "nbformat": 4,
 "nbformat_minor": 2
}
