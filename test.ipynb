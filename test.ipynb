{
 "cells": [
  {
   "cell_type": "code",
   "execution_count": null,
   "metadata": {},
   "outputs": [],
   "source": [
    "from transformers import Blip2ForConditionalGeneration, Blip2Config, Blip2Processor\n",
    "\n",
    "# Load the configuration\n",
    "config = Blip2Config.from_pretrained('Salesforce/blip2-flan-t5-xl')\n",
    "model = Blip2ForConditionalGeneration(config)"
   ]
  },
  {
   "cell_type": "code",
   "execution_count": null,
   "metadata": {},
   "outputs": [],
   "source": [
    "tokenizer = Blip2Processor.from_pretrained('Salesforce/blip2-flan-t5-xl')"
   ]
  },
  {
   "cell_type": "code",
   "execution_count": 33,
   "metadata": {},
   "outputs": [],
   "source": [
    "# Sample input and context text sequences\n",
    "input_text_sequences = [\"Input text 1\", \"Input text 2\"]\n",
    "context_text_sequences = [\n",
    "    \"Contegadxt text 1\", \"Context text 2\", \"Context texgegaegaet 3\", \"Context tgadgext 4\", \"Context text 5\",\n",
    "    \"Context text 6\", \"Context text 7fasdagaeg\", \"Context text 8\", \"Context texdagdat 9\", \"gadgadgadgad text 10\",\n",
    "]\n",
    "\n",
    "# Concatenate sequences and create labels\n",
    "concatenated_sequences = []\n",
    "labels = []\n",
    "for i, input_text in enumerate(input_text_sequences):\n",
    "    for j in range(5):\n",
    "        context_index = i * 5 + j\n",
    "        context_text = context_text_sequences[context_index]\n",
    "        concatenated_sequence = input_text + \" \" + context_text\n",
    "        concatenated_sequences.append(concatenated_sequence)\n",
    "        # First of each group of 5 gets 'yes', the others 'no'\n",
    "        if j == 0:\n",
    "            labels.append(\"yes\")\n",
    "        else:\n",
    "            labels.append(\"no\")\n"
   ]
  },
  {
   "cell_type": "code",
   "execution_count": 34,
   "metadata": {},
   "outputs": [
    {
     "name": "stdout",
     "output_type": "stream",
     "text": [
      "Inputs shape: torch.Size([10, 18])\n",
      "Labels shape: torch.Size([10, 1])\n"
     ]
    }
   ],
   "source": [
    "from transformers import Blip2Processor\n",
    "import torch\n",
    "# Initialize the processor\n",
    "processor = Blip2Processor.from_pretrained('Salesforce/blip2-flan-t5-xl')\n",
    "\n",
    "# Tokenize the concatenated sequences and targets\n",
    "inputs = processor(text=concatenated_sequences, return_tensors=\"pt\", padding=True, truncation=True)\n",
    "target_tokens = processor(text=labels, return_tensors=\"pt\", padding=True, truncation=True).input_ids\n",
    "\n",
    "# # Align the labels for token prediction:\n",
    "# # Fill other parts with -100 (to ignore them in loss computation)\n",
    "# labels = torch.full_like(inputs.input_ids, -100)\n",
    "# labels[:, -1] = target_tokens[:, 0]  # Only the last token is the target\n",
    "\n",
    "labels = target_tokens[:, 0].reshape(-1, 1) \n",
    "\n",
    "# Verify the shapes\n",
    "print(\"Inputs shape:\", inputs.input_ids.shape)\n",
    "print(\"Labels shape:\", labels.shape)\n"
   ]
  },
  {
   "cell_type": "code",
   "execution_count": 35,
   "metadata": {},
   "outputs": [],
   "source": [
    "# Generate fake pixel values\n",
    "batch_size = inputs.input_ids.size(0)\n",
    "num_channels = 3  # Typically, images have 3 channels (RGB)\n",
    "height = 224  # Common height for vision models\n",
    "width = 224  # Common width for vision models\n",
    "fake_pixel_values = torch.randn((batch_size, num_channels, height, width))\n"
   ]
  },
  {
   "cell_type": "code",
   "execution_count": null,
   "metadata": {},
   "outputs": [],
   "source": [
    "\n",
    "model.eval()\n",
    "\n",
    "\n",
    "# Move inputs and labels to the correct device\n",
    "inputs = {key: val.to(model.device) for key, val in inputs.items()}\n",
    "labels = labels.to(model.device)\n",
    "fake_pixel_values = fake_pixel_values.to(model.device)\n",
    "\n",
    "# Add fake pixel values to the inputs dictionary\n",
    "inputs['pixel_values'] = fake_pixel_values\n",
    "\n",
    "# Forward pass with evaluation mode and no gradient tracking\n",
    "with torch.no_grad():\n",
    "    outputs = model(**inputs, labels=labels)\n",
    "    loss = outputs.loss\n",
    "# Output the loss\n",
    "print(\"Loss:\", loss.item())"
   ]
  },
  {
   "cell_type": "code",
   "execution_count": null,
   "metadata": {},
   "outputs": [],
   "source": [
    "target_tokens.shape"
   ]
  },
  {
   "cell_type": "code",
   "execution_count": null,
   "metadata": {},
   "outputs": [],
   "source": []
  }
 ],
 "metadata": {
  "kernelspec": {
   "display_name": "test_env",
   "language": "python",
   "name": "python3"
  },
  "language_info": {
   "codemirror_mode": {
    "name": "ipython",
    "version": 3
   },
   "file_extension": ".py",
   "mimetype": "text/x-python",
   "name": "python",
   "nbconvert_exporter": "python",
   "pygments_lexer": "ipython3",
   "version": "3.10.13"
  }
 },
 "nbformat": 4,
 "nbformat_minor": 2
}
